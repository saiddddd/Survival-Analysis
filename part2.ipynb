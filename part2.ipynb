{
 "cells": [
  {
   "cell_type": "code",
   "execution_count": 1,
   "metadata": {
    "ExecuteTime": {
     "end_time": "2021-07-11T15:53:33.508374Z",
     "start_time": "2021-07-11T15:53:32.421129Z"
    }
   },
   "outputs": [],
   "source": [
    "# Setup\n",
    "import pandas as pd\n",
    "import matplotlib.pyplot as plt\n",
    "import seaborn as sns\n",
    "from lifelines import KaplanMeierFitter, CoxPHFitter \n",
    "import warnings\n",
    "import os\n",
    "os.chdir('data')\n",
    "#from colorsetup import colors, palette\n",
    "#sns.set_palette(palette)"
   ]
  },
  {
   "cell_type": "code",
   "execution_count": 3,
   "metadata": {
    "ExecuteTime": {
     "end_time": "2021-07-11T15:54:10.789027Z",
     "start_time": "2021-07-11T15:54:10.638663Z"
    }
   },
   "outputs": [
    {
     "data": {
      "text/html": [
       "<div>\n",
       "<style scoped>\n",
       "    .dataframe tbody tr th:only-of-type {\n",
       "        vertical-align: middle;\n",
       "    }\n",
       "\n",
       "    .dataframe tbody tr th {\n",
       "        vertical-align: top;\n",
       "    }\n",
       "\n",
       "    .dataframe thead th {\n",
       "        text-align: right;\n",
       "    }\n",
       "</style>\n",
       "<table border=\"1\" class=\"dataframe\">\n",
       "  <thead>\n",
       "    <tr style=\"text-align: right;\">\n",
       "      <th></th>\n",
       "      <th>id</th>\n",
       "      <th>months</th>\n",
       "      <th>offer</th>\n",
       "      <th>phone</th>\n",
       "      <th>multiple</th>\n",
       "      <th>internet_type</th>\n",
       "      <th>gb_mon</th>\n",
       "      <th>security</th>\n",
       "      <th>backup</th>\n",
       "      <th>protection</th>\n",
       "      <th>...</th>\n",
       "      <th>unlimited</th>\n",
       "      <th>contract</th>\n",
       "      <th>paperless</th>\n",
       "      <th>payment</th>\n",
       "      <th>monthly</th>\n",
       "      <th>total_revenue</th>\n",
       "      <th>satisfaction</th>\n",
       "      <th>churn_value</th>\n",
       "      <th>churn_score</th>\n",
       "      <th>cltv</th>\n",
       "    </tr>\n",
       "  </thead>\n",
       "  <tbody>\n",
       "    <tr>\n",
       "      <th>0</th>\n",
       "      <td>8779-QRDMV</td>\n",
       "      <td>1</td>\n",
       "      <td>None</td>\n",
       "      <td>No</td>\n",
       "      <td>No</td>\n",
       "      <td>DSL</td>\n",
       "      <td>8</td>\n",
       "      <td>No</td>\n",
       "      <td>No</td>\n",
       "      <td>Yes</td>\n",
       "      <td>...</td>\n",
       "      <td>No</td>\n",
       "      <td>Month-to-Month</td>\n",
       "      <td>Yes</td>\n",
       "      <td>Bank Withdrawal</td>\n",
       "      <td>39.65</td>\n",
       "      <td>59.65</td>\n",
       "      <td>3</td>\n",
       "      <td>1</td>\n",
       "      <td>91</td>\n",
       "      <td>5433</td>\n",
       "    </tr>\n",
       "    <tr>\n",
       "      <th>1</th>\n",
       "      <td>7495-OOKFY</td>\n",
       "      <td>8</td>\n",
       "      <td>Offer E</td>\n",
       "      <td>Yes</td>\n",
       "      <td>Yes</td>\n",
       "      <td>Fiber Optic</td>\n",
       "      <td>17</td>\n",
       "      <td>No</td>\n",
       "      <td>Yes</td>\n",
       "      <td>No</td>\n",
       "      <td>...</td>\n",
       "      <td>Yes</td>\n",
       "      <td>Month-to-Month</td>\n",
       "      <td>Yes</td>\n",
       "      <td>Credit Card</td>\n",
       "      <td>80.65</td>\n",
       "      <td>1024.10</td>\n",
       "      <td>3</td>\n",
       "      <td>1</td>\n",
       "      <td>69</td>\n",
       "      <td>5302</td>\n",
       "    </tr>\n",
       "    <tr>\n",
       "      <th>2</th>\n",
       "      <td>1658-BYGOY</td>\n",
       "      <td>18</td>\n",
       "      <td>Offer D</td>\n",
       "      <td>Yes</td>\n",
       "      <td>Yes</td>\n",
       "      <td>Fiber Optic</td>\n",
       "      <td>52</td>\n",
       "      <td>No</td>\n",
       "      <td>No</td>\n",
       "      <td>No</td>\n",
       "      <td>...</td>\n",
       "      <td>Yes</td>\n",
       "      <td>Month-to-Month</td>\n",
       "      <td>Yes</td>\n",
       "      <td>Bank Withdrawal</td>\n",
       "      <td>95.45</td>\n",
       "      <td>1910.88</td>\n",
       "      <td>2</td>\n",
       "      <td>1</td>\n",
       "      <td>81</td>\n",
       "      <td>3179</td>\n",
       "    </tr>\n",
       "    <tr>\n",
       "      <th>3</th>\n",
       "      <td>4598-XLKNJ</td>\n",
       "      <td>25</td>\n",
       "      <td>Offer C</td>\n",
       "      <td>Yes</td>\n",
       "      <td>No</td>\n",
       "      <td>Fiber Optic</td>\n",
       "      <td>12</td>\n",
       "      <td>No</td>\n",
       "      <td>Yes</td>\n",
       "      <td>Yes</td>\n",
       "      <td>...</td>\n",
       "      <td>Yes</td>\n",
       "      <td>Month-to-Month</td>\n",
       "      <td>Yes</td>\n",
       "      <td>Bank Withdrawal</td>\n",
       "      <td>98.50</td>\n",
       "      <td>2995.07</td>\n",
       "      <td>2</td>\n",
       "      <td>1</td>\n",
       "      <td>88</td>\n",
       "      <td>5337</td>\n",
       "    </tr>\n",
       "    <tr>\n",
       "      <th>4</th>\n",
       "      <td>4846-WHAFZ</td>\n",
       "      <td>37</td>\n",
       "      <td>Offer C</td>\n",
       "      <td>Yes</td>\n",
       "      <td>Yes</td>\n",
       "      <td>Fiber Optic</td>\n",
       "      <td>14</td>\n",
       "      <td>No</td>\n",
       "      <td>No</td>\n",
       "      <td>No</td>\n",
       "      <td>...</td>\n",
       "      <td>Yes</td>\n",
       "      <td>Month-to-Month</td>\n",
       "      <td>Yes</td>\n",
       "      <td>Bank Withdrawal</td>\n",
       "      <td>76.50</td>\n",
       "      <td>3102.36</td>\n",
       "      <td>2</td>\n",
       "      <td>1</td>\n",
       "      <td>67</td>\n",
       "      <td>2793</td>\n",
       "    </tr>\n",
       "    <tr>\n",
       "      <th>...</th>\n",
       "      <td>...</td>\n",
       "      <td>...</td>\n",
       "      <td>...</td>\n",
       "      <td>...</td>\n",
       "      <td>...</td>\n",
       "      <td>...</td>\n",
       "      <td>...</td>\n",
       "      <td>...</td>\n",
       "      <td>...</td>\n",
       "      <td>...</td>\n",
       "      <td>...</td>\n",
       "      <td>...</td>\n",
       "      <td>...</td>\n",
       "      <td>...</td>\n",
       "      <td>...</td>\n",
       "      <td>...</td>\n",
       "      <td>...</td>\n",
       "      <td>...</td>\n",
       "      <td>...</td>\n",
       "      <td>...</td>\n",
       "      <td>...</td>\n",
       "    </tr>\n",
       "    <tr>\n",
       "      <th>7038</th>\n",
       "      <td>2569-WGERO</td>\n",
       "      <td>72</td>\n",
       "      <td>None</td>\n",
       "      <td>Yes</td>\n",
       "      <td>No</td>\n",
       "      <td>None</td>\n",
       "      <td>0</td>\n",
       "      <td>No</td>\n",
       "      <td>No</td>\n",
       "      <td>No</td>\n",
       "      <td>...</td>\n",
       "      <td>No</td>\n",
       "      <td>Two Year</td>\n",
       "      <td>Yes</td>\n",
       "      <td>Bank Withdrawal</td>\n",
       "      <td>21.15</td>\n",
       "      <td>3039.53</td>\n",
       "      <td>5</td>\n",
       "      <td>0</td>\n",
       "      <td>45</td>\n",
       "      <td>5306</td>\n",
       "    </tr>\n",
       "    <tr>\n",
       "      <th>7039</th>\n",
       "      <td>6840-RESVB</td>\n",
       "      <td>24</td>\n",
       "      <td>Offer C</td>\n",
       "      <td>Yes</td>\n",
       "      <td>Yes</td>\n",
       "      <td>Cable</td>\n",
       "      <td>24</td>\n",
       "      <td>Yes</td>\n",
       "      <td>No</td>\n",
       "      <td>Yes</td>\n",
       "      <td>...</td>\n",
       "      <td>Yes</td>\n",
       "      <td>One Year</td>\n",
       "      <td>Yes</td>\n",
       "      <td>Mailed Check</td>\n",
       "      <td>84.80</td>\n",
       "      <td>2807.47</td>\n",
       "      <td>3</td>\n",
       "      <td>0</td>\n",
       "      <td>59</td>\n",
       "      <td>2140</td>\n",
       "    </tr>\n",
       "    <tr>\n",
       "      <th>7040</th>\n",
       "      <td>2234-XADUH</td>\n",
       "      <td>72</td>\n",
       "      <td>None</td>\n",
       "      <td>Yes</td>\n",
       "      <td>Yes</td>\n",
       "      <td>Fiber Optic</td>\n",
       "      <td>59</td>\n",
       "      <td>No</td>\n",
       "      <td>Yes</td>\n",
       "      <td>Yes</td>\n",
       "      <td>...</td>\n",
       "      <td>Yes</td>\n",
       "      <td>One Year</td>\n",
       "      <td>Yes</td>\n",
       "      <td>Credit Card</td>\n",
       "      <td>103.20</td>\n",
       "      <td>9453.04</td>\n",
       "      <td>4</td>\n",
       "      <td>0</td>\n",
       "      <td>71</td>\n",
       "      <td>5560</td>\n",
       "    </tr>\n",
       "    <tr>\n",
       "      <th>7041</th>\n",
       "      <td>4801-JZAZL</td>\n",
       "      <td>11</td>\n",
       "      <td>None</td>\n",
       "      <td>No</td>\n",
       "      <td>No</td>\n",
       "      <td>DSL</td>\n",
       "      <td>17</td>\n",
       "      <td>Yes</td>\n",
       "      <td>No</td>\n",
       "      <td>No</td>\n",
       "      <td>...</td>\n",
       "      <td>Yes</td>\n",
       "      <td>Month-to-Month</td>\n",
       "      <td>Yes</td>\n",
       "      <td>Bank Withdrawal</td>\n",
       "      <td>29.60</td>\n",
       "      <td>319.21</td>\n",
       "      <td>4</td>\n",
       "      <td>0</td>\n",
       "      <td>59</td>\n",
       "      <td>2793</td>\n",
       "    </tr>\n",
       "    <tr>\n",
       "      <th>7042</th>\n",
       "      <td>3186-AJIEK</td>\n",
       "      <td>66</td>\n",
       "      <td>None</td>\n",
       "      <td>Yes</td>\n",
       "      <td>No</td>\n",
       "      <td>Fiber Optic</td>\n",
       "      <td>11</td>\n",
       "      <td>Yes</td>\n",
       "      <td>No</td>\n",
       "      <td>Yes</td>\n",
       "      <td>...</td>\n",
       "      <td>Yes</td>\n",
       "      <td>Two Year</td>\n",
       "      <td>Yes</td>\n",
       "      <td>Bank Withdrawal</td>\n",
       "      <td>105.65</td>\n",
       "      <td>8887.86</td>\n",
       "      <td>4</td>\n",
       "      <td>0</td>\n",
       "      <td>38</td>\n",
       "      <td>5097</td>\n",
       "    </tr>\n",
       "  </tbody>\n",
       "</table>\n",
       "<p>7043 rows × 21 columns</p>\n",
       "</div>"
      ],
      "text/plain": [
       "              id  months    offer phone multiple internet_type  gb_mon  \\\n",
       "0     8779-QRDMV       1     None    No       No           DSL       8   \n",
       "1     7495-OOKFY       8  Offer E   Yes      Yes   Fiber Optic      17   \n",
       "2     1658-BYGOY      18  Offer D   Yes      Yes   Fiber Optic      52   \n",
       "3     4598-XLKNJ      25  Offer C   Yes       No   Fiber Optic      12   \n",
       "4     4846-WHAFZ      37  Offer C   Yes      Yes   Fiber Optic      14   \n",
       "...          ...     ...      ...   ...      ...           ...     ...   \n",
       "7038  2569-WGERO      72     None   Yes       No          None       0   \n",
       "7039  6840-RESVB      24  Offer C   Yes      Yes         Cable      24   \n",
       "7040  2234-XADUH      72     None   Yes      Yes   Fiber Optic      59   \n",
       "7041  4801-JZAZL      11     None    No       No           DSL      17   \n",
       "7042  3186-AJIEK      66     None   Yes       No   Fiber Optic      11   \n",
       "\n",
       "     security backup protection  ... unlimited        contract paperless  \\\n",
       "0          No     No        Yes  ...        No  Month-to-Month       Yes   \n",
       "1          No    Yes         No  ...       Yes  Month-to-Month       Yes   \n",
       "2          No     No         No  ...       Yes  Month-to-Month       Yes   \n",
       "3          No    Yes        Yes  ...       Yes  Month-to-Month       Yes   \n",
       "4          No     No         No  ...       Yes  Month-to-Month       Yes   \n",
       "...       ...    ...        ...  ...       ...             ...       ...   \n",
       "7038       No     No         No  ...        No        Two Year       Yes   \n",
       "7039      Yes     No        Yes  ...       Yes        One Year       Yes   \n",
       "7040       No    Yes        Yes  ...       Yes        One Year       Yes   \n",
       "7041      Yes     No         No  ...       Yes  Month-to-Month       Yes   \n",
       "7042      Yes     No        Yes  ...       Yes        Two Year       Yes   \n",
       "\n",
       "              payment monthly  total_revenue  satisfaction  churn_value  \\\n",
       "0     Bank Withdrawal   39.65          59.65             3            1   \n",
       "1         Credit Card   80.65        1024.10             3            1   \n",
       "2     Bank Withdrawal   95.45        1910.88             2            1   \n",
       "3     Bank Withdrawal   98.50        2995.07             2            1   \n",
       "4     Bank Withdrawal   76.50        3102.36             2            1   \n",
       "...               ...     ...            ...           ...          ...   \n",
       "7038  Bank Withdrawal   21.15        3039.53             5            0   \n",
       "7039     Mailed Check   84.80        2807.47             3            0   \n",
       "7040      Credit Card  103.20        9453.04             4            0   \n",
       "7041  Bank Withdrawal   29.60         319.21             4            0   \n",
       "7042  Bank Withdrawal  105.65        8887.86             4            0   \n",
       "\n",
       "      churn_score  cltv  \n",
       "0              91  5433  \n",
       "1              69  5302  \n",
       "2              81  3179  \n",
       "3              88  5337  \n",
       "4              67  2793  \n",
       "...           ...   ...  \n",
       "7038           45  5306  \n",
       "7039           59  2140  \n",
       "7040           71  5560  \n",
       "7041           59  2793  \n",
       "7042           38  5097  \n",
       "\n",
       "[7043 rows x 21 columns]"
      ]
     },
     "execution_count": 3,
     "metadata": {},
     "output_type": "execute_result"
    }
   ],
   "source": [
    "df = pd.read_pickle('churndata.pkl')\n",
    "df"
   ]
  },
  {
   "cell_type": "code",
   "execution_count": 5,
   "metadata": {
    "ExecuteTime": {
     "end_time": "2021-07-11T15:56:43.232992Z",
     "start_time": "2021-07-11T15:56:42.968669Z"
    }
   },
   "outputs": [
    {
     "data": {
      "text/plain": [
       "<AxesSubplot:xlabel='churn_value', ylabel='months'>"
      ]
     },
     "execution_count": 5,
     "metadata": {},
     "output_type": "execute_result"
    },
    {
     "data": {
      "image/png": "[encoded data removed]",
      "text/plain": [
       "<Figure size 576x576 with 1 Axes>"
      ]
     },
     "metadata": {
      "needs_background": "light"
     },
     "output_type": "display_data"
    }
   ],
   "source": [
    "plt.figure(figsize=(8,8))\n",
    "sns.barplot(data=df, x='churn_value', y='months')"
   ]
  },
  {
   "cell_type": "code",
   "execution_count": 6,
   "metadata": {
    "ExecuteTime": {
     "end_time": "2021-07-11T15:57:57.155970Z",
     "start_time": "2021-07-11T15:57:56.281528Z"
    }
   },
   "outputs": [
    {
     "data": {
      "text/plain": [
       "Text(0, 0.5, 'Survival probability')"
      ]
     },
     "execution_count": 6,
     "metadata": {},
     "output_type": "execute_result"
    },
    {
     "data": {
      "image/png": "[encoded data removed]",
      "text/plain": [
       "<Figure size 864x432 with 1 Axes>"
      ]
     },
     "metadata": {
      "needs_background": "light"
     },
     "output_type": "display_data"
    }
   ],
   "source": [
    "kmf = KaplanMeierFitter()\n",
    "\n",
    "kmf.fit(df.months, df.churn_value, label = 'Kaplan Meier Estimate, full sample')\n",
    "\n",
    "kmf.plot(linewidth=4, figsize=(12, 6))\n",
    "plt.title('Customer Churn: Kaplan-Meier Curve')\n",
    "plt.xlabel('Months')\n",
    "plt.ylabel('Survival probability')"
   ]
  },
  {
   "cell_type": "code",
   "execution_count": 7,
   "metadata": {
    "ExecuteTime": {
     "end_time": "2021-07-11T15:59:24.844688Z",
     "start_time": "2021-07-11T15:59:24.474983Z"
    }
   },
   "outputs": [
    {
     "data": {
      "text/plain": [
       "churn_value\n",
       "0    AxesSubplot(0.547727,0.125;0.352273x0.755)\n",
       "1    AxesSubplot(0.547727,0.125;0.352273x0.755)\n",
       "Name: months, dtype: object"
      ]
     },
     "execution_count": 7,
     "metadata": {},
     "output_type": "execute_result"
    },
    {
     "data": {
      "image/png": "[encoded data removed]",
      "text/plain": [
       "<Figure size 1152x576 with 2 Axes>"
      ]
     },
     "metadata": {
      "needs_background": "light"
     },
     "output_type": "display_data"
    }
   ],
   "source": [
    "# Let's look at the 'multiple services variable'\n",
    "df1 = df[df.multiple=='Yes']\n",
    "df2 = df[df.multiple=='No']\n",
    "fig, ax = plt.subplots(1,2, figsize=(16,8))\n",
    "df1.groupby('churn_value')['months'].plot(kind='hist', ax=ax[0], title='Customers with Multiple Services.')\n",
    "ax[0].legend(labels=['Not churned', 'Churned'])\n",
    "df2.groupby('churn_value')['months'].plot(kind='hist', ax=ax[1], title='Customers with Single Service.')"
   ]
  },
  {
   "cell_type": "code",
   "execution_count": 8,
   "metadata": {
    "ExecuteTime": {
     "end_time": "2021-07-11T15:59:44.056655Z",
     "start_time": "2021-07-11T15:59:43.783544Z"
    }
   },
   "outputs": [
    {
     "data": {
      "text/plain": [
       "Text(0, 0.5, 'Survival probability')"
      ]
     },
     "execution_count": 8,
     "metadata": {},
     "output_type": "execute_result"
    },
    {
     "data": {
      "image/png": "[encoded data removed]",
      "text/plain": [
       "<Figure size 864x432 with 1 Axes>"
      ]
     },
     "metadata": {
      "needs_background": "light"
     },
     "output_type": "display_data"
    }
   ],
   "source": [
    "kmf.fit(df1.months, df1.churn_value)\n",
    "kmf.plot(label='Multiple Services', figsize=(12, 6))\n",
    "kmf.fit(df2.months, df2.churn_value)\n",
    "kmf.plot(label='Single Service')\n",
    "plt.title('Number of Services and Churn: Kaplan-Meier Curve')\n",
    "plt.xlabel('Months')\n",
    "plt.ylabel('Survival probability')"
   ]
  },
  {
   "cell_type": "code",
   "execution_count": 9,
   "metadata": {
    "ExecuteTime": {
     "end_time": "2021-07-11T16:02:37.214601Z",
     "start_time": "2021-07-11T16:02:37.191235Z"
    }
   },
   "outputs": [],
   "source": [
    "# Setting up the data\n",
    "dfu = df[['multiple', 'churn_value']]\n",
    "dfd = pd.get_dummies(dfu, drop_first=True)\n",
    "dfd['months'] = df.months\n",
    "dfd.rename(columns={'multiple_Yes':'Multiple Services'}, inplace=True)"
   ]
  },
  {
   "cell_type": "code",
   "execution_count": 11,
   "metadata": {
    "ExecuteTime": {
     "end_time": "2021-07-11T16:02:46.117501Z",
     "start_time": "2021-07-11T16:02:46.101544Z"
    }
   },
   "outputs": [
    {
     "data": {
      "text/html": [
       "<div>\n",
       "<style scoped>\n",
       "    .dataframe tbody tr th:only-of-type {\n",
       "        vertical-align: middle;\n",
       "    }\n",
       "\n",
       "    .dataframe tbody tr th {\n",
       "        vertical-align: top;\n",
       "    }\n",
       "\n",
       "    .dataframe thead th {\n",
       "        text-align: right;\n",
       "    }\n",
       "</style>\n",
       "<table border=\"1\" class=\"dataframe\">\n",
       "  <thead>\n",
       "    <tr style=\"text-align: right;\">\n",
       "      <th></th>\n",
       "      <th>churn_value</th>\n",
       "      <th>Multiple Services</th>\n",
       "      <th>months</th>\n",
       "    </tr>\n",
       "  </thead>\n",
       "  <tbody>\n",
       "    <tr>\n",
       "      <th>0</th>\n",
       "      <td>1</td>\n",
       "      <td>0</td>\n",
       "      <td>1</td>\n",
       "    </tr>\n",
       "    <tr>\n",
       "      <th>1</th>\n",
       "      <td>1</td>\n",
       "      <td>1</td>\n",
       "      <td>8</td>\n",
       "    </tr>\n",
       "    <tr>\n",
       "      <th>2</th>\n",
       "      <td>1</td>\n",
       "      <td>1</td>\n",
       "      <td>18</td>\n",
       "    </tr>\n",
       "    <tr>\n",
       "      <th>3</th>\n",
       "      <td>1</td>\n",
       "      <td>0</td>\n",
       "      <td>25</td>\n",
       "    </tr>\n",
       "    <tr>\n",
       "      <th>4</th>\n",
       "      <td>1</td>\n",
       "      <td>1</td>\n",
       "      <td>37</td>\n",
       "    </tr>\n",
       "    <tr>\n",
       "      <th>...</th>\n",
       "      <td>...</td>\n",
       "      <td>...</td>\n",
       "      <td>...</td>\n",
       "    </tr>\n",
       "    <tr>\n",
       "      <th>7038</th>\n",
       "      <td>0</td>\n",
       "      <td>0</td>\n",
       "      <td>72</td>\n",
       "    </tr>\n",
       "    <tr>\n",
       "      <th>7039</th>\n",
       "      <td>0</td>\n",
       "      <td>1</td>\n",
       "      <td>24</td>\n",
       "    </tr>\n",
       "    <tr>\n",
       "      <th>7040</th>\n",
       "      <td>0</td>\n",
       "      <td>1</td>\n",
       "      <td>72</td>\n",
       "    </tr>\n",
       "    <tr>\n",
       "      <th>7041</th>\n",
       "      <td>0</td>\n",
       "      <td>0</td>\n",
       "      <td>11</td>\n",
       "    </tr>\n",
       "    <tr>\n",
       "      <th>7042</th>\n",
       "      <td>0</td>\n",
       "      <td>0</td>\n",
       "      <td>66</td>\n",
       "    </tr>\n",
       "  </tbody>\n",
       "</table>\n",
       "<p>7043 rows × 3 columns</p>\n",
       "</div>"
      ],
      "text/plain": [
       "      churn_value  Multiple Services  months\n",
       "0               1                  0       1\n",
       "1               1                  1       8\n",
       "2               1                  1      18\n",
       "3               1                  0      25\n",
       "4               1                  1      37\n",
       "...           ...                ...     ...\n",
       "7038            0                  0      72\n",
       "7039            0                  1      24\n",
       "7040            0                  1      72\n",
       "7041            0                  0      11\n",
       "7042            0                  0      66\n",
       "\n",
       "[7043 rows x 3 columns]"
      ]
     },
     "execution_count": 11,
     "metadata": {},
     "output_type": "execute_result"
    }
   ],
   "source": [
    "dfd"
   ]
  },
  {
   "cell_type": "code",
   "execution_count": 12,
   "metadata": {
    "ExecuteTime": {
     "end_time": "2021-07-11T16:03:44.279696Z",
     "start_time": "2021-07-11T16:03:43.983109Z"
    }
   },
   "outputs": [
    {
     "name": "stdout",
     "output_type": "stream",
     "text": [
      "<lifelines.CoxPHFitter: fitted with 7043 total observations, 5174 right-censored observations>\n",
      "             duration col = 'months'\n",
      "                event col = 'churn_value'\n",
      "      baseline estimation = breslow\n",
      "   number of observations = 7043\n",
      "number of events observed = 1869\n",
      "   partial log-likelihood = -15641.90\n",
      "         time fit was run = 2021-07-11 16:03:43 UTC\n",
      "\n",
      "---\n",
      "                    coef  exp(coef)   se(coef)   coef lower 95%   coef upper 95%  exp(coef) lower 95%  exp(coef) upper 95%\n",
      "covariate                                                                                                                 \n",
      "Multiple Services  -0.24       0.79       0.05            -0.33            -0.15                 0.72                 0.86\n",
      "\n",
      "                      z      p   -log2(p)\n",
      "covariate                                \n",
      "Multiple Services -5.06 <0.005      21.18\n",
      "---\n",
      "Concordance = 0.55\n",
      "Partial AIC = 31285.81\n",
      "log-likelihood ratio test = 25.72 on 1 df\n",
      "-log2(p) of ll-ratio test = 21.27\n",
      "\n"
     ]
    }
   ],
   "source": [
    "cph = CoxPHFitter()\n",
    "cph.fit(dfd, duration_col='months', event_col='churn_value')\n",
    "cph.print_summary(style='ascii')"
   ]
  },
  {
   "cell_type": "code",
   "execution_count": 13,
   "metadata": {
    "ExecuteTime": {
     "end_time": "2021-07-11T16:04:14.585402Z",
     "start_time": "2021-07-11T16:04:14.476542Z"
    }
   },
   "outputs": [
    {
     "data": {
      "text/plain": [
       "<AxesSubplot:xlabel='log(HR) (95% CI)'>"
      ]
     },
     "execution_count": 13,
     "metadata": {},
     "output_type": "execute_result"
    },
    {
     "data": {
      "image/png": "[encoded data removed]",
      "text/plain": [
       "<Figure size 432x288 with 1 Axes>"
      ]
     },
     "metadata": {
      "needs_background": "light"
     },
     "output_type": "display_data"
    }
   ],
   "source": [
    "cph.plot()"
   ]
  },
  {
   "cell_type": "code",
   "execution_count": 16,
   "metadata": {
    "ExecuteTime": {
     "end_time": "2021-07-11T16:09:28.674271Z",
     "start_time": "2021-07-11T16:09:28.650294Z"
    }
   },
   "outputs": [],
   "source": [
    "# Including additional variables, data setup\n",
    "dfu = df[['churn_value', 'satisfaction', 'security', 'backup', 'support']]\n",
    "dfd = pd.get_dummies(dfu, drop_first=True)\n",
    "dfd['months'] = df.months\n",
    "#dfd.rename(columns={'multiple_Yes':'Multiple Services'}, inplace=True)\n",
    "dfd.rename(columns={'backup_Yes':'Backup Service'}, inplace=True)\n",
    "dfd.rename(columns={'security_Yes':'Security Service'}, inplace=True)\n",
    "dfd.rename(columns={'support_Yes':'Support Service'}, inplace=True)"
   ]
  },
  {
   "cell_type": "code",
   "execution_count": 17,
   "metadata": {
    "ExecuteTime": {
     "end_time": "2021-07-11T16:09:37.966949Z",
     "start_time": "2021-07-11T16:09:37.777072Z"
    }
   },
   "outputs": [
    {
     "name": "stdout",
     "output_type": "stream",
     "text": [
      "<lifelines.CoxPHFitter: fitted with 7043 total observations, 5174 right-censored observations>\n",
      "             duration col = 'months'\n",
      "                event col = 'churn_value'\n",
      "      baseline estimation = breslow\n",
      "   number of observations = 7043\n",
      "number of events observed = 1869\n",
      "   partial log-likelihood = -13308.14\n",
      "         time fit was run = 2021-07-11 16:09:37 UTC\n",
      "\n",
      "---\n",
      "                   coef  exp(coef)   se(coef)   coef lower 95%   coef upper 95%  exp(coef) lower 95%  exp(coef) upper 95%\n",
      "covariate                                                                                                                \n",
      "satisfaction      -1.30       0.27       0.02            -1.34            -1.25                 0.26                 0.29\n",
      "Security Service  -1.09       0.34       0.07            -1.22            -0.96                 0.29                 0.38\n",
      "Backup Service    -0.63       0.53       0.05            -0.73            -0.52                 0.48                 0.59\n",
      "Support Service   -0.49       0.61       0.06            -0.61            -0.36                 0.54                 0.70\n",
      "\n",
      "                      z      p   -log2(p)\n",
      "covariate                                \n",
      "satisfaction     -55.26 <0.005        inf\n",
      "Security Service -16.46 <0.005     199.73\n",
      "Backup Service   -11.77 <0.005     103.89\n",
      "Support Service   -7.50 <0.005      43.84\n",
      "---\n",
      "Concordance = 0.90\n",
      "Partial AIC = 26624.27\n",
      "log-likelihood ratio test = 4693.25 on 4 df\n",
      "-log2(p) of ll-ratio test = inf\n",
      "\n"
     ]
    }
   ],
   "source": [
    "# Fitting Cox Proportional Model\n",
    "cph = CoxPHFitter()\n",
    "cph.fit(dfd, duration_col='months', event_col='churn_value')\n",
    "cph.print_summary(style='ascii')"
   ]
  },
  {
   "cell_type": "code",
   "execution_count": 18,
   "metadata": {
    "ExecuteTime": {
     "end_time": "2021-07-11T16:09:51.222112Z",
     "start_time": "2021-07-11T16:09:51.099506Z"
    }
   },
   "outputs": [
    {
     "data": {
      "text/plain": [
       "<AxesSubplot:xlabel='log(HR) (95% CI)'>"
      ]
     },
     "execution_count": 18,
     "metadata": {},
     "output_type": "execute_result"
    },
    {
     "data": {
      "image/png": "[encoded data removed]",
      "text/plain": [
       "<Figure size 432x288 with 1 Axes>"
      ]
     },
     "metadata": {
      "needs_background": "light"
     },
     "output_type": "display_data"
    }
   ],
   "source": [
    "cph.plot()"
   ]
  },
  {
   "cell_type": "code",
   "execution_count": 21,
   "metadata": {
    "ExecuteTime": {
     "end_time": "2021-07-11T16:12:30.992436Z",
     "start_time": "2021-07-11T16:12:30.738159Z"
    }
   },
   "outputs": [
    {
     "data": {
      "text/plain": [
       "<AxesSubplot:>"
      ]
     },
     "execution_count": 21,
     "metadata": {},
     "output_type": "execute_result"
    },
    {
     "data": {
      "image/png": "[encoded data removed]",
      "text/plain": [
       "<Figure size 720x432 with 1 Axes>"
      ]
     },
     "metadata": {
      "needs_background": "light"
     },
     "output_type": "display_data"
    }
   ],
   "source": [
    "cph.plot_partial_effects_on_outcome('satisfaction', [5, 4, 3, 2, 1], plot_baseline=False, figsize=(10, 6), lw=4) "
   ]
  },
  {
   "cell_type": "code",
   "execution_count": null,
   "metadata": {
    "ExecuteTime": {
     "end_time": "2021-07-11T16:11:19.330904Z",
     "start_time": "2021-07-11T16:11:19.314947Z"
    }
   },
   "outputs": [],
   "source": []
  },
  {
   "cell_type": "code",
   "execution_count": null,
   "metadata": {},
   "outputs": [],
   "source": []
  },
  {
   "cell_type": "code",
   "execution_count": null,
   "metadata": {},
   "outputs": [],
   "source": []
  },
  {
   "cell_type": "code",
   "execution_count": null,
   "metadata": {},
   "outputs": [],
   "source": []
  },
  {
   "cell_type": "code",
   "execution_count": null,
   "metadata": {},
   "outputs": [],
   "source": []
  },
  {
   "cell_type": "code",
   "execution_count": null,
   "metadata": {},
   "outputs": [],
   "source": []
  },
  {
   "cell_type": "code",
   "execution_count": null,
   "metadata": {},
   "outputs": [],
   "source": []
  },
  {
   "cell_type": "code",
   "execution_count": null,
   "metadata": {},
   "outputs": [],
   "source": []
  },
  {
   "cell_type": "code",
   "execution_count": null,
   "metadata": {},
   "outputs": [],
   "source": []
  },
  {
   "cell_type": "code",
   "execution_count": null,
   "metadata": {},
   "outputs": [],
   "source": []
  },
  {
   "cell_type": "code",
   "execution_count": null,
   "metadata": {},
   "outputs": [],
   "source": []
  },
  {
   "cell_type": "code",
   "execution_count": null,
   "metadata": {},
   "outputs": [],
   "source": []
  },
  {
   "cell_type": "code",
   "execution_count": null,
   "metadata": {},
   "outputs": [],
   "source": []
  },
  {
   "cell_type": "code",
   "execution_count": null,
   "metadata": {},
   "outputs": [],
   "source": []
  }
 ],
 "metadata": {
  "kernelspec": {
   "display_name": "Python 3",
   "language": "python",
   "name": "python3"
  },
  "language_info": {
   "codemirror_mode": {
    "name": "ipython",
    "version": 3
   },
   "file_extension": ".py",
   "mimetype": "text/x-python",
   "name": "python",
   "nbconvert_exporter": "python",
   "pygments_lexer": "ipython3",
   "version": "3.8.5"
  },
  "toc": {
   "base_numbering": 1,
   "nav_menu": {},
   "number_sections": true,
   "sideBar": true,
   "skip_h1_title": false,
   "title_cell": "Table of Contents",
   "title_sidebar": "Contents",
   "toc_cell": false,
   "toc_position": {},
   "toc_section_display": true,
   "toc_window_display": false
  }
 },
 "nbformat": 4,
 "nbformat_minor": 4
}
